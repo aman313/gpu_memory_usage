{
 "cells": [
  {
   "cell_type": "markdown",
   "metadata": {},
   "source": [
    "# Inference Test with GPT-2 XL\n",
    "\n",
    "This notebook demonstrates running inference with a billion parameter transformer model on your hardware."
   ]
  },
  {
   "cell_type": "code",
   "execution_count": null,
   "metadata": {},
   "outputs": [],
   "source": [
    "# Import necessary libraries\n",
    "import sys\n",
    "import torch\n",
    "\n",
    "# Check PyTorch installation\n",
    "print(f\"PyTorch version: {torch.__version__}\")\n",
    "print(f\"CUDA available: {torch.cuda.is_available()}\")\n",
    "print(f\"MPS available: {torch.backends.mps.is_available()}\")"
   ]
  },
  {
   "cell_type": "code",
   "execution_count": null,
   "metadata": {},
   "outputs": [],
   "source": [
    "# Import the inference test function\n",
    "from test_mps_pytorch import run_inference_test"
   ]
  },
  {
   "cell_type": "markdown",
   "metadata": {},
   "source": [
    "## Run the Inference Test\n",
    "\n",
    "This will:\n",
    "1. Load a GPT-2 XL model (1.5 billion parameters)\n",
    "2. Move it to the best available device (CUDA > MPS > CPU)\n",
    "3. Wait for user input to start inference\n",
    "4. When started, run inference in a batch size specified by the user"
   ]
  },
  {
   "cell_type": "code",
   "execution_count": null,
   "metadata": {},
   "outputs": [],
   "source": [
    "# Run the inference test\n",
    "run_inference_test()"
   ]
  }
 ],
 "metadata": {
  "language_info": {
   "name": "python"
  }
 },
 "nbformat": 4,
 "nbformat_minor": 2
}
